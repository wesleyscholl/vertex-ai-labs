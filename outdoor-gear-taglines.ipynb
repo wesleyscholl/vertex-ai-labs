from google import genai
from google.genai import types
import base64

def generate():
  client = genai.Client(
      vertexai=True,
      project="qwiklabs-gcp-02-44da7e67f8d6",
      location="us-central1"
  )

  text1 = types.Part.from_text("""input: Write a tagline for a durable backpack designed for hikers that makes them feel prepared. Consider styles like minimalist.
output: Built for the Journey: Your Adventure Essentials.


input: Design a Freeform Prompt with parameters to customize taglines based on:

Product attributes (e.g., durable, lightweight)
Target audience (e.g., young adventurers, families)
Emotional resonance (e.g., empowered, connected)
output:""")
  textsi_1 = """Cymbal Direct is partnering with an outdoor gear retailer. They're launching a new line of products designed to encourage young people to explore the outdoors. Help them create catchy taglines for this product line."""

  model = "gemini-2.0-flash-exp"
  contents = [
    types.Content(
      role="user",
      parts=[
        text1
      ]
    )
  ]
  generate_content_config = types.GenerateContentConfig(
    temperature = 1,
    top_p = 0.95,
    max_output_tokens = 8192,
    response_modalities = ["TEXT"],
    safety_settings = [types.SafetySetting(
      category="HARM_CATEGORY_HATE_SPEECH",
      threshold="OFF"
    ),types.SafetySetting(
      category="HARM_CATEGORY_DANGEROUS_CONTENT",
      threshold="OFF"
    ),types.SafetySetting(
      category="HARM_CATEGORY_SEXUALLY_EXPLICIT",
      threshold="OFF"
    ),types.SafetySetting(
      category="HARM_CATEGORY_HARASSMENT",
      threshold="OFF"
    )],
    system_instruction=[types.Part.from_text(textsi_1)],
  )

  for chunk in client.models.generate_content_stream(
    model = model,
    contents = contents,
    config = generate_content_config,
    ):
    print(chunk, end="")

generate()
