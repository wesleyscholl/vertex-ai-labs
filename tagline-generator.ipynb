from vertexai.preview.generative_models import GenerativeModel

model = GenerativeModel("gemini-1.5-pro")

prompt = """
Cymbal Direct is partnering with an outdoor gear retailer. They\'re launching a new line of products designed to encourage young people to explore the outdoors. Help them create catchy taglines for this product line.
The output should always include the word \'nature\'.

input: Gear up for adventure.  Cymbal Direct.
output: Explore nature's playground.

input: Find your wild.
output: Unleash your inner nature explorer.

input: Every trail has a story.  Make yours with Cymbal Direct.
output:
"""

responses = model.generate_content(
    prompt,
    generation_config={
        "temperature": 1,
        "max_output_tokens": 2048,
        "top_p": 1.0,
        "top_k": 40,
    },
    stream=True
    )

for response in responses:
    print(response.text)
